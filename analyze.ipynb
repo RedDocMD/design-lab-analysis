{
 "cells": [
  {
   "cell_type": "markdown",
   "metadata": {},
   "source": [
    "# Sniffing 2.4 GHz Keyboard Traffic"
   ]
  },
  {
   "cell_type": "code",
   "execution_count": 10,
   "metadata": {},
   "outputs": [],
   "source": [
    "import jsonlines\n",
    "import matplotlib.pyplot as plt\n",
    "import numpy as np\n",
    "from pathlib import Path\n",
    "import numpy as np\n"
   ]
  },
  {
   "cell_type": "markdown",
   "metadata": {},
   "source": [
    "## Data Loading"
   ]
  },
  {
   "cell_type": "code",
   "execution_count": 11,
   "metadata": {},
   "outputs": [],
   "source": [
    "data_dir = Path.cwd() / Path('data')\n",
    "wpms = list(range(20, 80, 10))\n",
    "data = {}\n",
    "for wpm in wpms:\n",
    "    data_path = data_dir / Path(f'{wpm}.jsonl')\n",
    "    with jsonlines.open(data_path) as rdr:\n",
    "        curr_data = list(rdr.iter())\n",
    "        data[wpm] = curr_data"
   ]
  },
  {
   "cell_type": "code",
   "execution_count": 12,
   "metadata": {},
   "outputs": [],
   "source": [
    "valid_mac = \"cd:04:03:02:01\"\n",
    "invalid_cnt = {}\n",
    "for wpm in data:\n",
    "    invalid_cnt[wpm] = len(list(filter(lambda x: x['mac'] != valid_mac, data[wpm])))\n",
    "    data[wpm] = list(filter(lambda x: x['mac'] == valid_mac, data[wpm]))\n",
    "\n",
    "channels = {}\n",
    "times = {}\n",
    "for wpm, cdata in data.items():\n",
    "    channels[wpm] = list(map(lambda x: x['channel'], cdata))\n",
    "    times[wpm] = list(map(lambda x: x['time'] / 1000, cdata))"
   ]
  },
  {
   "cell_type": "markdown",
   "metadata": {},
   "source": [
    "## Time to sniff vs WPM"
   ]
  },
  {
   "cell_type": "code",
   "execution_count": 13,
   "metadata": {},
   "outputs": [
    {
     "name": "stdout",
     "output_type": "stream",
     "text": [
      "WPM = 20\n",
      "\tMean = 194.37 s, Std Dev = 106.14 s, Median = 165.56 s\n",
      "\tHits = 19, Spurious hits = 31.58%\n",
      "WPM = 30\n",
      "\tMean = 88.66 s, Std Dev = 69.98 s, Median = 72.54 s\n",
      "\tHits = 16, Spurious hits = 25.00%\n",
      "WPM = 40\n",
      "\tMean = 74.01 s, Std Dev = 76.46 s, Median = 53.14 s\n",
      "\tHits = 24, Spurious hits = 12.50%\n",
      "WPM = 50\n",
      "\tMean = 53.14 s, Std Dev = 38.95 s, Median = 52.99 s\n",
      "\tHits = 34, Spurious hits = 8.82%\n",
      "WPM = 60\n",
      "\tMean = 50.60 s, Std Dev = 53.54 s, Median = 39.81 s\n",
      "\tHits = 36, Spurious hits = 11.11%\n",
      "WPM = 70\n",
      "\tMean = 31.38 s, Std Dev = 35.47 s, Median = 23.12 s\n",
      "\tHits = 55, Spurious hits = 7.27%\n"
     ]
    }
   ],
   "source": [
    "for wpm in wpms:\n",
    "    tot_hits = invalid_cnt[wpm] + len(data[wpm])\n",
    "    invalid_percent = invalid_cnt[wpm] / tot_hits * 100\n",
    "    mean = np.mean(times[wpm])\n",
    "    std = np.std(times[wpm])\n",
    "    median = np.median(times[wpm])\n",
    "    print(f\"WPM = {wpm}\")\n",
    "    print(f\"\\tMean = {mean:.2f} s, Std Dev = {std:.2f} s, Median = {median:.2f} s\")\n",
    "    print(f\"\\tHits = {tot_hits}, Spurious hits = {invalid_percent:.2f}%\")"
   ]
  },
  {
   "cell_type": "code",
   "execution_count": 14,
   "metadata": {},
   "outputs": [
    {
     "data": {
      "image/png": "[encoded data removed]",
      "text/plain": [
       "<Figure size 640x480 with 1 Axes>"
      ]
     },
     "metadata": {},
     "output_type": "display_data"
    }
   ],
   "source": [
    "fig, ax = plt.subplots()\n",
    "times_vec = [times[wpm] for wpm in wpms]\n",
    "ax.boxplot(times_vec, positions=wpms, vert=False, widths=5)\n",
    "ax.set_xlabel('Time (s)')\n",
    "ax.set_ylabel('WPM')\n",
    "plt.show()"
   ]
  },
  {
   "cell_type": "markdown",
   "metadata": {},
   "source": [
    "## Channel we are detecting on"
   ]
  },
  {
   "cell_type": "code",
   "execution_count": 16,
   "metadata": {},
   "outputs": [
    {
     "name": "stdout",
     "output_type": "stream",
     "text": [
      "Actual channel = 34\n",
      "\n",
      "Channel | Count\n",
      "--------+------\n",
      "34      |  16\n",
      "35      |  75\n",
      "38      |  50\n",
      "39      |  15\n",
      "--------+------\n"
     ]
    }
   ],
   "source": [
    "chan_counts = {}\n",
    "for wpm in wpms:\n",
    "    for chan in channels[wpm]:\n",
    "        if chan in chan_counts:\n",
    "            chan_counts[chan] += 1\n",
    "        else:\n",
    "            chan_counts[chan] = 0\n",
    "\n",
    "print('Actual channel = 34')\n",
    "print('\\nChannel | Count')\n",
    "print('--------+------')\n",
    "chans = sorted(chan_counts.keys())\n",
    "for chan in chans:\n",
    "    print(f'{chan:2d}      | {chan_counts[chan]:3d}')\n",
    "print('--------+------')"
   ]
  }
 ],
 "metadata": {
  "kernelspec": {
   "display_name": "Python 3",
   "language": "python",
   "name": "python3"
  },
  "language_info": {
   "codemirror_mode": {
    "name": "ipython",
    "version": 3
   },
   "file_extension": ".py",
   "mimetype": "text/x-python",
   "name": "python",
   "nbconvert_exporter": "python",
   "pygments_lexer": "ipython3",
   "version": "3.11.5"
  }
 },
 "nbformat": 4,
 "nbformat_minor": 2
}
